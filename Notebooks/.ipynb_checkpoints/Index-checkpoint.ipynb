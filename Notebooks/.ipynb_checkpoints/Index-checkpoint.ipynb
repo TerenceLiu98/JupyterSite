{
 "cells": [
  {
   "cell_type": "markdown",
   "metadata": {
    "slideshow": {
     "slide_type": "slide"
    }
   },
   "source": [
    "# Jupyter Site"
   ]
  },
  {
   "cell_type": "markdown",
   "metadata": {
    "slideshow": {
     "slide_type": "fragment"
    }
   },
   "source": [
    "JupyterSite allows you to easily build a suite of rendered documents from Jupyter\n",
    "notebooks. Jupyter notebooks go in, html/markdown pages, PDFs, slideshows, and tex\n",
    "comes out. If you use this in a Github repository, it will even build a Github pages\n",
    "site. This also shows how to make the notebooks easily accessible in Julia.\n",
    "\n",
    "It just takes one button, simplifying the entire process. The `publish.sh` file\n",
    "does all the heavy lifting, showing you how to do all of this (any of the conversions\n",
    "can be disabled by commenting out the appropriate lines)."
   ]
  },
  {
   "cell_type": "markdown",
   "metadata": {
    "slideshow": {
     "slide_type": "slide"
    }
   },
   "source": [
    "## Example Site\n",
    "\n",
    "An example of the product this package generates can be found at: https://github.com/UCIDataScienceInitiative/IntroToJulia . \n",
    "\n",
    "The site that this generates is: http://UCIDataScienceInitiative.github.io/IntroToJulia/"
   ]
  },
  {
   "cell_type": "markdown",
   "metadata": {
    "slideshow": {
     "slide_type": "slide"
    }
   },
   "source": [
    "## Installation\n",
    "\n",
    "To use this, first install Jupyter (note: Python must be installed)\n",
    "\n",
    "```bash\n",
    "pip install jupyter\n",
    "```\n",
    "\n",
    "For the PDF output to work, a distribution of LaTeX must be installed. Also, we\n",
    "will need pandoc:\n",
    "\n",
    "```bash\n",
    "pip install pandoc\n",
    "```"
   ]
  },
  {
   "cell_type": "markdown",
   "metadata": {
    "slideshow": {
     "slide_type": "slide"
    }
   },
   "source": [
    "## Using the Package\n",
    "\n",
    "### Downloading the Template\n",
    "\n",
    "The easiest way to get started is to clone the package repository using Git:\n",
    "\n",
    "```bash\n",
    "git clone https://github.com/ChrisRackauckas/JupyterSite\n",
    "```"
   ]
  },
  {
   "cell_type": "markdown",
   "metadata": {
    "slideshow": {
     "slide_type": "slide"
    }
   },
   "source": [
    "### The Notebooks\n",
    "\n",
    "The files which the site is built from are the notebooks that are included in\n",
    "the Notebooks folder. The `Index.ipynb` file build the site index (the first\n",
    "page shown in the webpage) and additional `.ipynb` files are rendered in the various\n",
    "forms. Thus to add your own content, simply add the `.ipynb` files to this directory.\n",
    "\n",
    "Note that notebooks have to be setup for slides in order for the slideshow to work.\n",
    "Inside the notebook, use view > CellToolbar > Slideshow and set the appropriate blocks\n",
    "to slides."
   ]
  },
  {
   "cell_type": "markdown",
   "metadata": {
    "slideshow": {
     "slide_type": "slide"
    }
   },
   "source": [
    "### Building The Site\n",
    "\n",
    "To build the site files, use the `publish.sh` file. To do so, go to the top directory\n",
    "of the repository and use the command:\n",
    "\n",
    "```bash\n",
    "sh publish.sh\n",
    "```\n",
    "\n",
    "If your Git is correctly setup, this will render the files and upload the files to\n",
    "Github. Upon success, your `index.html` will be available at:\n",
    "\n",
    "```\n",
    "http://<github-username>.github.io/<repository-name>/\n",
    "```\n",
    "\n",
    "For example, my user name is ChrisRackauckas and this repository is named JupyterSite.\n",
    "Therefore the site for that this makes is at\n",
    "\n",
    "```\n",
    "http://ChrisRackauckas.github.io/JupyterSite/\n",
    "```\n",
    "\n",
    "For organizations, the user name is replaced with the organization name."
   ]
  },
  {
   "cell_type": "markdown",
   "metadata": {
    "slideshow": {
     "slide_type": "subslide"
    }
   },
   "source": [
    "#### Caveat\n",
    "\n",
    "Note that PDF output is not compatible with the usage of Markdown images (though\n",
    "code with images will allow the PDFs to build, but the images will not appear)."
   ]
  },
  {
   "cell_type": "markdown",
   "metadata": {
    "slideshow": {
     "slide_type": "slide"
    }
   },
   "source": [
    "## HTML\n",
    "https://terenceliu98.github.io/JupyterSite//Html/Use_PY_in_Linear_Algebra.html\n",
    "<br>\n",
    "\n",
    "https://terenceliu98.github.io/JupyterSite//Html/Use_PY_in_Calulus.html\n",
    "<br>\n",
    "\n",
    "https://terenceliu98.github.io/JupyterSite//Html/Use_PY_in_Advanced_Statstics.html\n",
    "## Markdown\n",
    "\n",
    "https://terenceliu98.github.io/JupyterSite/tree/master/Markdown\n",
    "\n",
    "## LaTeX\n",
    "\n",
    "https://terenceliu98.github.io/JupyterSite/tree/master/Tex\n",
    "\n",
    "## PDF\n",
    "\n",
    "https://terenceliu98.github.io/JupyterSite/tree/master/Pdfs"
   ]
  }
 ],
 "metadata": {
  "celltoolbar": "Slideshow",
  "kernelspec": {
   "display_name": "C",
   "language": "c",
   "name": "c"
  },
  "language_info": {
   "file_extension": ".c",
   "mimetype": "text/plain",
   "name": "c"
  }
 },
 "nbformat": 4,
 "nbformat_minor": 1
}
