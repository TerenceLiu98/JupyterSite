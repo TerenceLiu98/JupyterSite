{
 "cells": [
  {
   "cell_type": "markdown",
   "metadata": {
    "slideshow": {
     "slide_type": "slide"
    }
   },
   "source": [
    "# TerenceLau's Jupyter files"
   ]
  },
  {
   "cell_type": "markdown",
   "metadata": {
    "slideshow": {
     "slide_type": "slide"
    }
   },
   "source": [
    "## Why I do this\n",
    "\n",
    "I usually write the files on Jupyter. However, the ipynb cannot show on the website, so, I use Jupytersite to convert .ipynb to HTML, Markdown, LaTeX and PDF. "
   ]
  },
  {
   "cell_type": "markdown",
   "metadata": {
    "slideshow": {
     "slide_type": "subslide"
    }
   },
   "source": [
    "JupyterSite allows you to easily build a suite of rendered documents from Jupyter\n",
    "notebooks. Jupyter notebooks go in, html/markdown pages, PDFs, slideshows, and tex comes out. If you use this in a Github repository, it will even build a Github pages site. This also shows how to make the notebooks easily accessible in Julia.\n",
    "<br>\n",
    "\n",
    "Here is the link of the origin repo:\n",
    "\n",
    "**<center><a href=\"https://chrisrackauckas.github.io/JupyterSite\">JupyterSite-by-Chrisackauckas</a></center>**"
   ]
  },
  {
   "cell_type": "markdown",
   "metadata": {
    "slideshow": {
     "slide_type": "slide"
    }
   },
   "source": [
    "## My Files\n",
    "\n",
    "### HTML\n",
    "* <a href=\"https://terenceliu98.github.io/Jupytersite//Html/Use_PY_in_Calculus.html\">Use Python in Calculus </a>\n",
    "<br>\n",
    "\n",
    "* <a href=\"https://terenceliu98.github.io/Jupytersite//Html/Use_PY_in_Linear_Algebra.html\">Use Python in Linear Algebra </a>\n",
    "<br>\n",
    "\n",
    "* <a href=\"https://terenceliu98.github.io/Jupytersite//Html/Use_PY_in_Advanced_Statstics.html\">Use Python in Advanced Statstics</a>\n",
    "\n",
    "### Markdown\n",
    "\n",
    "* https://github.com/TerenceLiu98/Jupytersite/tree/master/Markdown\n",
    "\n",
    "### Slides\n",
    "\n",
    "* https://terenceliu98.github.io/Jupytersite/"
   ]
  },
  {
   "cell_type": "code",
   "execution_count": null,
   "metadata": {},
   "outputs": [],
   "source": []
  }
 ],
 "metadata": {
  "celltoolbar": "Slideshow",
  "kernelspec": {
   "display_name": "C",
   "language": "c",
   "name": "c"
  },
  "language_info": {
   "file_extension": ".c",
   "mimetype": "text/plain",
   "name": "c"
  }
 },
 "nbformat": 4,
 "nbformat_minor": 1
}
