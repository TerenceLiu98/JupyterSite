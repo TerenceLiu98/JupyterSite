{
 "cells": [
  {
   "cell_type": "markdown",
   "metadata": {
    "slideshow": {
     "slide_type": "slide"
    }
   },
   "source": [
    "# Jupyter Site"
   ]
  },
  {
   "cell_type": "markdown",
   "metadata": {
    "slideshow": {
     "slide_type": "skip"
    }
   },
   "source": [
    "JupyterSite allows you to easily build a suite of rendered documents from Jupyter\n",
    "notebooks. Jupyter notebooks go in, html/markdown pages, PDFs, slideshows, and tex\n",
    "comes out. If you use this in a Github repository, it will even build a Github pages\n",
    "site. This also shows how to make the notebooks easily accessible in Julia.\n",
    "\n",
    "It just takes one button, simplifying the entire process. The `publish.sh` file\n",
    "does all the heavy lifting, showing you how to do all of this (any of the conversions\n",
    "can be disabled by commenting out the appropriate lines)."
   ]
  },
  {
   "cell_type": "markdown",
   "metadata": {
    "slideshow": {
     "slide_type": "slide"
    }
   },
   "source": [
    "## HTML\n",
    "https://terenceliu98.github.io/JupyterSite//Html/Use_PY_in_Linear_Algebra.html\n",
    "<br>\n",
    "\n",
    "https://terenceliu98.github.io/JupyterSite//Html/Use_PY_in_Calculus.html\n",
    "<br>\n",
    "\n",
    "https://terenceliu98.github.io/JupyterSite//Html/Use_PY_in_Advanced_Statstics.html\n",
    "## Markdown\n",
    "\n",
    "https://terenceliu98.github.io/JupyterSite/tree/master/Markdown\n",
    "\n",
    "## LaTeX\n",
    "\n",
    "https://terenceliu98.github.io/JupyterSite/tree/master/Tex\n",
    "\n",
    "## PDF\n",
    "\n",
    "https://terenceliu98.github.io/JupyterSite/tree/master/Pdfs"
   ]
  }
 ],
 "metadata": {
  "celltoolbar": "Slideshow",
  "kernelspec": {
   "display_name": "C",
   "language": "c",
   "name": "c"
  },
  "language_info": {
   "file_extension": ".c",
   "mimetype": "text/plain",
   "name": "c"
  }
 },
 "nbformat": 4,
 "nbformat_minor": 1
}
