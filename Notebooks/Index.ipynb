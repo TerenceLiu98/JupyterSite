{
 "cells": [
  {
   "cell_type": "markdown",
   "metadata": {},
   "source": [
    "\n",
    "# TerenceLau's Jupyter files\n",
    "\n",
    "\n",
    "\n",
    "## My Files\n",
    "\n",
    "### HTML\n",
    "* <a href=\"https://terenceliu98.github.io/Jupytersite//Html/Use_PY_in_Calculus.html\">Use Python in Calculus </a>\n",
    "<br>\n",
    "\n",
    "* <a href=\"https://terenceliu98.github.io/Jupytersite//Html/Use_PY_in_Linear_Algebra.html\">Use Python in Linear Algebra </a>\n",
    "<br>\n",
    "\n",
    "* <a href=\"https://terenceliu98.github.io/Jupytersite//Html/Use_PY_in_Advanced_Statstics.html\">Use Python in Advanced Statstics</a>\n",
    "\n",
    "### Markdown\n",
    "\n",
    "* https://github.com/TerenceLiu98/Jupytersite/tree/master/Markdown\n",
    "\n",
    "### Slides\n",
    "\n",
    "* https://terenceliu98.github.io/Jupytersite/\n",
    "\n",
    "## My Playground\n",
    "\n",
    "* <a href=\"https://rstudio.uicer.xyz\"> Rstudio Server </a>\n",
    "* <a href=\"https://jupyter.uicer.xyz\"> Jupyter Hub </a>\n",
    "\n",
    "\n",
    ">This Website's Template is Powered by GitHub@ChrisRackauckas\n",
    ">\n",
    ">**<center><a href=\"https://chrisrackauckas.github.io/>JupyterSite\">JupyterSite-by-Chrisackauckas</a></center>**\n"
   ]
  }
 ],
 "metadata": {
  "celltoolbar": "Slideshow",
  "kernelspec": {
   "display_name": "C",
   "language": "c",
   "name": "c"
  },
  "language_info": {
   "file_extension": ".c",
   "mimetype": "text/plain",
   "name": "c"
  }
 },
 "nbformat": 4,
 "nbformat_minor": 1
}
